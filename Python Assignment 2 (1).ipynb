{
 "cells": [
  {
   "cell_type": "markdown",
   "id": "905d16d0-8113-4cde-9be3-7510570948bc",
   "metadata": {
    "panel-layout": {
     "height": 51.13750076293945,
     "visible": true,
     "width": 100
    }
   },
   "source": [
    "Q1 Discuss string slicing and provide examples "
   ]
  },
  {
   "cell_type": "markdown",
   "id": "519f54a3-3a0b-4752-8b0a-64c9995bc912",
   "metadata": {
    "panel-layout": {
     "height": 51.13750076293945,
     "visible": true,
     "width": 100
    }
   },
   "source": [
    "Ans:- String slicing in Python is a way to get specific parts of a string by using start, end, and step values. It’s especially useful for text manipulation and data parsing."
   ]
  },
  {
   "cell_type": "code",
   "execution_count": 9,
   "id": "486eee9f-69ea-47e2-9d7b-ed0799a8ba7e",
   "metadata": {
    "panel-layout": {
     "height": 0,
     "visible": true,
     "width": 100
    }
   },
   "outputs": [
    {
     "name": "stdout",
     "output_type": "stream",
     "text": [
      "hello\n"
     ]
    }
   ],
   "source": [
    "S = \"hello students how are you ?\"\n",
    "print(S[0:5])"
   ]
  },
  {
   "cell_type": "code",
   "execution_count": 9,
   "id": "ba8dd037-5177-4c3a-8c93-7d3d56ee03c4",
   "metadata": {
    "panel-layout": {
     "height": 0,
     "visible": true,
     "width": 100
    }
   },
   "outputs": [
    {
     "name": "stdout",
     "output_type": "stream",
     "text": [
      "hello\n"
     ]
    }
   ],
   "source": [
    "S = \"hello students how are you ?\"\n",
    "print(S[0:5])"
   ]
  },
  {
   "cell_type": "code",
   "execution_count": 19,
   "id": "69e265a1-7c4f-4fff-93df-1b4bf29c4c18",
   "metadata": {
    "panel-layout": {
     "height": 0,
     "visible": true,
     "width": 100
    }
   },
   "outputs": [
    {
     "name": "stdout",
     "output_type": "stream",
     "text": [
      "hlosuet \n"
     ]
    }
   ],
   "source": [
    "S = \"hello students how are you ?\"\n",
    "print(S[0:15:2])"
   ]
  },
  {
   "cell_type": "code",
   "execution_count": 25,
   "id": "3c00e542-e16a-414f-95cc-0f7e3a9bd454",
   "metadata": {
    "panel-layout": {
     "height": 0,
     "visible": true,
     "width": 100
    }
   },
   "outputs": [
    {
     "name": "stdout",
     "output_type": "stream",
     "text": [
      "? uoy era woh stneduts olleh\n"
     ]
    }
   ],
   "source": [
    "S = \"hello students how are you ?\"\n",
    "print(S[::-1])"
   ]
  },
  {
   "cell_type": "markdown",
   "id": "deb51386-8cba-430f-9fd0-1985cdb7b6a2",
   "metadata": {
    "panel-layout": {
     "height": 51.13750076293945,
     "visible": true,
     "width": 100
    }
   },
   "source": [
    "Q2  Explain the key features of lists in Python ?\n",
    "\n"
   ]
  },
  {
   "cell_type": "markdown",
   "id": "75349b86-970b-4368-8191-cd6969e54cf3",
   "metadata": {},
   "source": [
    "Ans- Python lists are versatile data structures that allow you to store multiple items in a single variable. They are one of the four built-in data types in Python designed to store collections of data, with the others being Tuple, Set, and Dictionary. Each of these data types has unique properties and usage, but lists are particularly notable for their ordered, changeable, and duplicate-allowing nature  \n",
    "\n",
    "Lists in Python are a versatile data structure that offer several key features, including:\n",
    "\n",
    "1. Ordered collection: Lists are an ordered collection of items, meaning that the order of the items matters and is maintained.\n",
    "\n",
    "2. Mutable: Lists are mutable, meaning they can be modified after creation.\n",
    "\n",
    "3. Indexing: Lists are indexed, meaning each item is assigned a unique index (starting from 0) that can be used to access and manipulate the item.\n",
    "\n",
    "4. Slicing: Lists support slicing, which allows you to extract a subset of items from the list.\n",
    "\n",
    "5. Dynamic size: Lists can grow or shrink dynamically as items are added or removed.\n",
    "\n",
    "6. Heterogeneous: Lists can contain items of different data types, including numbers, strings, and other lists.\n",
    "\n",
    "7. Supports various methods: Lists support various methods like append(), extend(), insert(), remove(), pop(), index(), count(), sort(), and reverse().\n",
    "\n",
    "8. Supports list comprehensions: Lists support list comprehensions, which provide a concise way to create new lists.\n",
    "\n",
    "9. Supports indexing and slicing: Lists support indexing and slicing, which allows for efficient access and manipulation of items.\n",
    "\n",
    "10. Can be nested: Lists can be nested, meaning that lists can contain other lists.\n",
    "\n",
    "Some examples of lists in Python:\n",
    "\n",
    "my_list = [1, 2, 3, 4, 5]\n",
    "my_list = [\"hello\", \"world\"]\n",
    "my_list = [1, \"hello\", 3.14]\n",
    "my_list = [[1, 2], [3, 4]]\n",
    "\n",
    "These features make lists a powerful and flexible data structure in Python, suitable for a wide range of applications."
   ]
  },
  {
   "cell_type": "markdown",
   "id": "7b9d5687-6a6f-47e2-93d8-7754c58096fa",
   "metadata": {},
   "source": [
    "Q3  Describe how to access, modify, and delete elements in a list with examples\n"
   ]
  },
  {
   "cell_type": "markdown",
   "id": "f6673376-346c-4370-9c12-e542dc6bde16",
   "metadata": {},
   "source": [
    "Ans- Access "
   ]
  },
  {
   "cell_type": "code",
   "execution_count": 38,
   "id": "38b741ed-df6a-46c8-8b34-aaddf23f4819",
   "metadata": {},
   "outputs": [
    {
     "name": "stdout",
     "output_type": "stream",
     "text": [
      "45\n"
     ]
    }
   ],
   "source": [
    "list = [12,15,19,25,36,45,56,85,98,75,79,]\n",
    "print(list[5])"
   ]
  },
  {
   "cell_type": "code",
   "execution_count": 40,
   "id": "1414985f-4696-4a94-aad1-fe22654c2181",
   "metadata": {},
   "outputs": [
    {
     "name": "stdout",
     "output_type": "stream",
     "text": [
      "98\n"
     ]
    }
   ],
   "source": [
    "list = [12,15,19,25,36,45,56,85,98,75,79,]\n",
    "print(list[-3])"
   ]
  },
  {
   "cell_type": "markdown",
   "id": "ac2e2fd4-a7ab-4c15-aa51-970177d70622",
   "metadata": {},
   "source": [
    "# Modify List"
   ]
  },
  {
   "cell_type": "code",
   "execution_count": 45,
   "id": "1a5524a9-72b1-42dc-a720-3518d43b3cd9",
   "metadata": {},
   "outputs": [
    {
     "name": "stdout",
     "output_type": "stream",
     "text": [
      "['vipul', 'parvesh', 'ashish']\n"
     ]
    }
   ],
   "source": [
    "list = ['vipul', 'parvesh', 'aman',]\n",
    "list[2] = 'ashish'\n",
    "print(list)"
   ]
  },
  {
   "cell_type": "markdown",
   "id": "b8ead119-a190-4905-bc0f-010137b57ce6",
   "metadata": {},
   "source": [
    "# Delete list "
   ]
  },
  {
   "cell_type": "code",
   "execution_count": 48,
   "id": "6b72cb43-591c-44f7-8149-046bba1c023e",
   "metadata": {},
   "outputs": [
    {
     "name": "stdout",
     "output_type": "stream",
     "text": [
      "['hello', 'siri']\n"
     ]
    }
   ],
   "source": [
    "list = ['hello','whatsup', 'siri',]\n",
    "list.remove('whatsup')\n",
    "print(list)"
   ]
  },
  {
   "cell_type": "markdown",
   "id": "4d626d69-ca8d-43fe-b73f-1728a081982d",
   "metadata": {},
   "source": [
    "Q4 Compare and contrast tuples and lists with examples"
   ]
  },
  {
   "cell_type": "markdown",
   "id": "6c6d0491-7019-4d21-b34e-abd1baffbd99",
   "metadata": {},
   "source": [
    "  #List \n",
    "    \n",
    "Ans-  List is mutable which means its elements can be updated as per requirement. \n",
    "      List iteration is slower and is time consuming.\n",
    "      List is useful for insertion and deletion operations.\n",
    "      List consumes more memory.\n",
    "      List provides many built-in methods.\n",
    "      List operations are more error prone.\n",
    "\n",
    "\n",
    " #Tuples \n",
    "       Tuple is immutable which means we can't modify its element once created.\n",
    "       Tuple iteration is faster.\n",
    "       Tuple is useful for read-only operations like accessing elements.\n",
    "       Tuples consumes less memory.\n",
    "       Tuples have less built-in methods as compare to list.\n",
    "       Tuples operations are safe. \n",
    "       "
   ]
  },
  {
   "cell_type": "markdown",
   "id": "d49ff67a-03d7-4021-a66c-7b61dc31bc24",
   "metadata": {},
   "source": [
    "# Example of tuple\n"
   ]
  },
  {
   "cell_type": "code",
   "execution_count": 4,
   "id": "6f317433-5e45-4297-8373-555b4dd32ad3",
   "metadata": {},
   "outputs": [
    {
     "ename": "TypeError",
     "evalue": "'tuple' object does not support item assignment",
     "output_type": "error",
     "traceback": [
      "\u001b[1;31m---------------------------------------------------------------------------\u001b[0m",
      "\u001b[1;31mTypeError\u001b[0m                                 Traceback (most recent call last)",
      "Cell \u001b[1;32mIn[4], line 2\u001b[0m\n\u001b[0;32m      1\u001b[0m t1 \u001b[38;5;241m=\u001b[39m (\u001b[38;5;241m0\u001b[39m, \u001b[38;5;241m1\u001b[39m, \u001b[38;5;241m2\u001b[39m, \u001b[38;5;241m3\u001b[39m)\n\u001b[1;32m----> 2\u001b[0m t1[\u001b[38;5;241m0\u001b[39m] \u001b[38;5;241m=\u001b[39m \u001b[38;5;241m4\u001b[39m\n\u001b[0;32m      3\u001b[0m \u001b[38;5;28mprint\u001b[39m(t1)\n",
      "\u001b[1;31mTypeError\u001b[0m: 'tuple' object does not support item assignment"
     ]
    }
   ],
   "source": [
    "t1 = (0, 1, 2, 3)\n",
    "t1[0] = 4\n",
    "print(t1)"
   ]
  },
  {
   "cell_type": "markdown",
   "id": "069798f3-24bc-4a49-a5a7-8898c9e46333",
   "metadata": {},
   "source": [
    "# Example of list "
   ]
  },
  {
   "cell_type": "code",
   "execution_count": 9,
   "id": "0f35f979-d6f9-4665-8b02-b894d9f55326",
   "metadata": {},
   "outputs": [
    {
     "name": "stdout",
     "output_type": "stream",
     "text": [
      "[1, 2, 4, '7', 3, 3, 3, 6, 5]\n"
     ]
    }
   ],
   "source": [
    "List = [1, 2, 4, 4, 3, 3, 3, 6, 5]\n",
    "List[3] = '7'\n",
    "print(List)"
   ]
  },
  {
   "cell_type": "markdown",
   "id": "bda9c014-6d18-456b-bab3-14b2c81709cf",
   "metadata": {},
   "source": [
    "Q5 Describe the key features of sets and provide examples of their use "
   ]
  },
  {
   "cell_type": "markdown",
   "id": "c23a99e4-0424-45a3-a362-71a73155cec1",
   "metadata": {},
   "source": [
    "Ans- A Set in Python programming is an unordered collection data type that is iterable and has no duplicate elements. While sets are mutable, meaning you can add or remove elements after their creation, the individual elements within the set must be immutable and cannot be changed directly"
   ]
  },
  {
   "cell_type": "code",
   "execution_count": 5,
   "id": "891a4c18-75ca-4309-9e8a-f5dcac11312a",
   "metadata": {},
   "outputs": [],
   "source": [
    "# Example "
   ]
  },
  {
   "cell_type": "code",
   "execution_count": 11,
   "id": "d1a40be6-db88-40bd-948b-361af86ee542",
   "metadata": {},
   "outputs": [
    {
     "data": {
      "text/plain": [
       "{1, 2, 'Ajay', 'ajay'}"
      ]
     },
     "execution_count": 11,
     "metadata": {},
     "output_type": "execute_result"
    }
   ],
   "source": [
    "s ={1,2,1,2,2,\"Ajay\",\"Ajay\", \"ajay\", \"ajay\", \"ajay\"}\n",
    "s\n"
   ]
  },
  {
   "cell_type": "code",
   "execution_count": 13,
   "id": "e063f40d-40f6-459f-a723-e1394016f045",
   "metadata": {},
   "outputs": [
    {
     "data": {
      "text/plain": [
       "set"
      ]
     },
     "execution_count": 13,
     "metadata": {},
     "output_type": "execute_result"
    }
   ],
   "source": [
    "type(s)"
   ]
  },
  {
   "cell_type": "markdown",
   "id": "31758998-1eb7-46c5-92d9-543fce48acc3",
   "metadata": {},
   "source": [
    "Q6  Discuss the use cases of tuples and sets in Python programming."
   ]
  },
  {
   "cell_type": "markdown",
   "id": "525dfdfd-5701-4282-a7b0-9d9494c8836d",
   "metadata": {},
   "source": [
    "Ans- Tuples and sets are both essential data structures in Python that serve different purposes due to their unique characteristics.\n",
    "     Tuples:\n",
    "Tuples are immutable sequences in Python, meaning once they are created, their contents cannot be modified. They are defined using parentheses ().\n"
   ]
  },
  {
   "cell_type": "markdown",
   "id": "07ab3165-669a-4edd-9079-700b59f89ebc",
   "metadata": {},
   "source": [
    " # Representing Fixed Collections of Data:\n",
    " Tuples are ideal for cases where the data should not be modified after creation. \n",
    "    For example, representing coordinates (latitude, longitude) or RGB color values.\n",
    "\n",
    "coordinates = (40.7128, 74.0060)  # (latitude, longitude)\n",
    "color = (255, 0, 0)  # RGB color for red\n"
   ]
  },
  {
   "cell_type": "markdown",
   "id": "61b50b54-9515-4467-9646-6ba6d78f7cf3",
   "metadata": {},
   "source": [
    "#Sets \n",
    "Sets are unordered collections of unique elements.\n",
    "They are defined using curly braces {} or the set() constructor\n",
    "\n",
    "Unordered: Sets do not maintain the order of elements.\n",
    "Unique Elements: Sets do not allow duplicate values.\n",
    "Mutable: You can add or remove elements after creation. "
   ]
  },
  {
   "cell_type": "code",
   "execution_count": 11,
   "id": "071c5652-83da-4839-b921-19a0f10707d1",
   "metadata": {},
   "outputs": [
    {
     "name": "stdout",
     "output_type": "stream",
     "text": [
      "{1, 2, 3, 4, 5}\n"
     ]
    }
   ],
   "source": [
    " #Removing Duplicates from a Collection\n",
    " numbers = [1, 2, 2, 3, 4, 4, 5]\n",
    "unique_numbers = set(numbers)\n",
    "print(unique_numbers)\n"
   ]
  },
  {
   "cell_type": "markdown",
   "id": "d1bdbf19-617b-4b30-aaa0-2d3020998fbb",
   "metadata": {},
   "source": [
    "Q7 Describe how to add, modify, and delete items in a dictionary with examples"
   ]
  },
  {
   "cell_type": "markdown",
   "id": "1e054af0-9d6c-4eb5-8761-31ead3ae152f",
   "metadata": {},
   "source": [
    "Ans- Adding Items to a Dictionary"
   ]
  },
  {
   "cell_type": "code",
   "execution_count": 18,
   "id": "b35945fa-fb33-44ae-80a8-c1b785a6044b",
   "metadata": {},
   "outputs": [
    {
     "name": "stdout",
     "output_type": "stream",
     "text": [
      "{'apple': 3, 'banana': 5, 'orange': 7}\n"
     ]
    }
   ],
   "source": [
    "my_dict = {'apple': 3, 'banana': 5}\n",
    "my_dict['orange'] = 7\n",
    "print(my_dict) \n",
    "\n",
    " "
   ]
  },
  {
   "cell_type": "markdown",
   "id": "481d7533-d89f-4174-8d72-00dc9f6cab9a",
   "metadata": {},
   "source": [
    "2. Modifying Items in a Dictionary"
   ]
  },
  {
   "cell_type": "code",
   "execution_count": 20,
   "id": "b4fdae4e-efef-4ab2-bef6-a5e40c1604a4",
   "metadata": {},
   "outputs": [
    {
     "name": "stdout",
     "output_type": "stream",
     "text": [
      "{'apple': 10, 'banana': 5}\n"
     ]
    }
   ],
   "source": [
    "my_dict = {'apple': 3, 'banana': 5}\n",
    "my_dict['apple'] = 10\n",
    "print(my_dict)  \n"
   ]
  },
  {
   "cell_type": "markdown",
   "id": "883a4360-7b6b-40a0-be9e-f14605a433a9",
   "metadata": {},
   "source": [
    "3.  Deleting Items from a Dictionary"
   ]
  },
  {
   "cell_type": "code",
   "execution_count": 22,
   "id": "0f6df335-851a-4888-95cb-a09d43671464",
   "metadata": {},
   "outputs": [
    {
     "name": "stdout",
     "output_type": "stream",
     "text": [
      "{'apple': 3, 'orange': 7}\n"
     ]
    }
   ],
   "source": [
    "my_dict = {'apple': 3, 'banana': 5, 'orange': 7}\n",
    "del my_dict['banana']\n",
    "print(my_dict) \n"
   ]
  },
  {
   "cell_type": "markdown",
   "id": "056f6ba1-2257-4c05-8beb-e97ac945d235",
   "metadata": {},
   "source": [
    "Q8  Discuss the importance of dictionary keys being immutable and provide examples.\n"
   ]
  },
  {
   "cell_type": "markdown",
   "id": "85fdced6-4e57-4c6d-a8bc-8fa009015b60",
   "metadata": {},
   "source": [
    "Ans- In Python, dictionary keys must be immutable. This is an important design choice that ensures the reliability and consistency of dictionaries as a data structure. Let's explore the significance of this rule and provide examples to illustrate it.\n",
    "   # Importance of Immutable Dictionary Keys\n",
    "  # Hashing Consistency:\n",
    "\n",
    "A dictionary in Python is implemented as a hash table. This means that each key is associated with a hash value, which is used to quickly locate the corresponding value.\n",
    "Immutable objects, like integers, strings, and tuples, have a stable hash value that does not change over time. This allows the dictionary to quickly access and store values by referencing the hash of the key.\n",
    "Mutable objects, such as lists or sets, can have their internal values modified, which could change their hash value. If a mutable object were used as a dictionary key and its value changed, it would affect the hash value, leading to unpredictable behavior, errors, or data loss. \n",
    "\n",
    " # Predictability:\n",
    "\n",
    "Immutable objects guarantee that the key’s identity and hash value remain consistent throughout the dictionary’s lifecycle. This ensures the correct mapping between keys and values, allowing for reliable lookups and manipulations.\n",
    "\n",
    "\n",
    " # Ensuring Integrity:\n",
    "\n",
    "If dictionary keys were mutable, changes to a key would disrupt the integrity of the dictionary. For example, if a key's value were altered, it could no longer point to the correct value, causing potential data loss or corruption. \n",
    "\n"
   ]
  },
  {
   "cell_type": "code",
   "execution_count": 26,
   "id": "15b7f787-c07f-4f80-b53a-ff28a08ed8fa",
   "metadata": {},
   "outputs": [
    {
     "name": "stdout",
     "output_type": "stream",
     "text": [
      "apple\n"
     ]
    }
   ],
   "source": [
    "# Using an integer as a dictionary key (immutable)\n",
    "my_dict = {1: \"apple\", 2: \"banana\"}\n",
    "print(my_dict[1]) \n"
   ]
  },
  {
   "cell_type": "code",
   "execution_count": 28,
   "id": "38066f69-2458-4e0f-a643-96b8964d5392",
   "metadata": {},
   "outputs": [
    {
     "ename": "IndentationError",
     "evalue": "unexpected indent (3142125822.py, line 2)",
     "output_type": "error",
     "traceback": [
      "\u001b[1;36m  Cell \u001b[1;32mIn[28], line 2\u001b[1;36m\u001b[0m\n\u001b[1;33m    my_dict = {[1, 2]: \"apple\"}\u001b[0m\n\u001b[1;37m    ^\u001b[0m\n\u001b[1;31mIndentationError\u001b[0m\u001b[1;31m:\u001b[0m unexpected indent\n"
     ]
    }
   ],
   "source": [
    "# Using a list as a dictionary key (mutable)\n",
    " my_dict = {[1, 2]: \"apple\"}\n",
    "print(my_dict)\n"
   ]
  },
  {
   "cell_type": "code",
   "execution_count": null,
   "id": "0777c04e-604a-42bb-8eb0-27d73305bb3d",
   "metadata": {},
   "outputs": [],
   "source": []
  }
 ],
 "metadata": {
  "kernelspec": {
   "display_name": "Python 3 (ipykernel)",
   "language": "python",
   "name": "python3"
  },
  "language_info": {
   "codemirror_mode": {
    "name": "ipython",
    "version": 3
   },
   "file_extension": ".py",
   "mimetype": "text/x-python",
   "name": "python",
   "nbconvert_exporter": "python",
   "pygments_lexer": "ipython3",
   "version": "3.12.7"
  },
  "panel-cell-order": [
   "905d16d0-8113-4cde-9be3-7510570948bc",
   "519f54a3-3a0b-4752-8b0a-64c9995bc912",
   "486eee9f-69ea-47e2-9d7b-ed0799a8ba7e",
   "ba8dd037-5177-4c3a-8c93-7d3d56ee03c4",
   "69e265a1-7c4f-4fff-93df-1b4bf29c4c18",
   "3c00e542-e16a-414f-95cc-0f7e3a9bd454",
   "deb51386-8cba-430f-9fd0-1985cdb7b6a2"
  ]
 },
 "nbformat": 4,
 "nbformat_minor": 5
}
